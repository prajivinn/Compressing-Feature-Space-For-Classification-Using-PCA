{
 "cells": [
  {
   "cell_type": "markdown",
   "id": "48556b29",
   "metadata": {},
   "source": [
    "# Project Overview\n",
    "\n",
    "Our client is looking to promote Ed Sheeran’s new album - and want to be both targeted with their customer communications, and as efficient as possible with their marketing budget.\n",
    "\n",
    "As a proof-of-concept they would like us to build a classification model for customers who purchased Ed’s last album based upon a small sample of listening data they have acquired for some of their customers at that time.\n",
    "\n",
    "If we can do this successfully, they will look to purchase up-to-date listening data, apply the model, and use the predicted probabilities to promote to customers who are most likely to purchase.\n",
    "\n",
    "The sample data is short but wide. It contains only 356 customers, but for each, columns that represent the percentage of historical listening time allocated to each of 100 artists. On top of these, the 100 columns do not contain the artist in question, instead being labelled artist1, artist2 etc.\n",
    "\n",
    "We will need to compress this data into something more manageable for classification!\n",
    "\n"
   ]
  },
  {
   "cell_type": "code",
   "execution_count": 38,
   "id": "ff59e9d4",
   "metadata": {},
   "outputs": [],
   "source": [
    "# pca is a technique often used for dimensionality reduction that will reduce large\n",
    "# number of input variables into a smaller ones each known as principal component\n",
    "# that will contain most of the information\n",
    "\n",
    "import pandas as pd\n",
    "import pickle\n",
    "import matplotlib.pyplot as plt\n",
    "\n",
    "from sklearn.ensemble import RandomForestClassifier\n",
    "from sklearn.utils import shuffle\n",
    "from sklearn.model_selection import train_test_split\n",
    "from sklearn.metrics import accuracy_score, confusion_matrix\n",
    "from sklearn.preprocessing import StandardScaler\n",
    "from sklearn.inspection import permutation_importance\n",
    "from sklearn.decomposition import PCA\n"
   ]
  },
  {
   "cell_type": "code",
   "execution_count": 39,
   "id": "a7a74c28",
   "metadata": {},
   "outputs": [],
   "source": [
    "data_for_model = pd.read_csv(r\"/Users/praju/Desktop/DSI/Untitled Folder/PCA/sample_data_pca.csv\")"
   ]
  },
  {
   "cell_type": "code",
   "execution_count": 40,
   "id": "0032c234",
   "metadata": {},
   "outputs": [
    {
     "data": {
      "text/html": [
       "<div>\n",
       "<style scoped>\n",
       "    .dataframe tbody tr th:only-of-type {\n",
       "        vertical-align: middle;\n",
       "    }\n",
       "\n",
       "    .dataframe tbody tr th {\n",
       "        vertical-align: top;\n",
       "    }\n",
       "\n",
       "    .dataframe thead th {\n",
       "        text-align: right;\n",
       "    }\n",
       "</style>\n",
       "<table border=\"1\" class=\"dataframe\">\n",
       "  <thead>\n",
       "    <tr style=\"text-align: right;\">\n",
       "      <th></th>\n",
       "      <th>user_id</th>\n",
       "      <th>purchased_album</th>\n",
       "      <th>artist1</th>\n",
       "      <th>artist2</th>\n",
       "      <th>artist3</th>\n",
       "      <th>artist4</th>\n",
       "      <th>artist5</th>\n",
       "      <th>artist6</th>\n",
       "      <th>artist7</th>\n",
       "      <th>artist8</th>\n",
       "      <th>...</th>\n",
       "      <th>artist91</th>\n",
       "      <th>artist92</th>\n",
       "      <th>artist93</th>\n",
       "      <th>artist94</th>\n",
       "      <th>artist95</th>\n",
       "      <th>artist96</th>\n",
       "      <th>artist97</th>\n",
       "      <th>artist98</th>\n",
       "      <th>artist99</th>\n",
       "      <th>artist100</th>\n",
       "    </tr>\n",
       "  </thead>\n",
       "  <tbody>\n",
       "    <tr>\n",
       "      <th>0</th>\n",
       "      <td>1</td>\n",
       "      <td>1</td>\n",
       "      <td>0.0000</td>\n",
       "      <td>0.0891</td>\n",
       "      <td>0.0</td>\n",
       "      <td>0.0</td>\n",
       "      <td>0.0</td>\n",
       "      <td>0.0000</td>\n",
       "      <td>0.0</td>\n",
       "      <td>0.0</td>\n",
       "      <td>...</td>\n",
       "      <td>0.0000</td>\n",
       "      <td>0.0001</td>\n",
       "      <td>0.0606</td>\n",
       "      <td>0.0</td>\n",
       "      <td>0.0000</td>\n",
       "      <td>0.0578</td>\n",
       "      <td>0.1554</td>\n",
       "      <td>0.0001</td>\n",
       "      <td>0.0000</td>\n",
       "      <td>0.0000</td>\n",
       "    </tr>\n",
       "    <tr>\n",
       "      <th>1</th>\n",
       "      <td>2</td>\n",
       "      <td>0</td>\n",
       "      <td>0.0000</td>\n",
       "      <td>0.0000</td>\n",
       "      <td>0.0</td>\n",
       "      <td>0.0</td>\n",
       "      <td>0.0</td>\n",
       "      <td>0.0001</td>\n",
       "      <td>0.0</td>\n",
       "      <td>0.0</td>\n",
       "      <td>...</td>\n",
       "      <td>0.0008</td>\n",
       "      <td>0.0000</td>\n",
       "      <td>0.0016</td>\n",
       "      <td>0.0</td>\n",
       "      <td>0.0000</td>\n",
       "      <td>0.0000</td>\n",
       "      <td>0.0030</td>\n",
       "      <td>0.0034</td>\n",
       "      <td>0.8695</td>\n",
       "      <td>0.0037</td>\n",
       "    </tr>\n",
       "    <tr>\n",
       "      <th>2</th>\n",
       "      <td>3</td>\n",
       "      <td>1</td>\n",
       "      <td>0.0002</td>\n",
       "      <td>0.0000</td>\n",
       "      <td>0.0</td>\n",
       "      <td>0.0</td>\n",
       "      <td>0.0</td>\n",
       "      <td>0.0000</td>\n",
       "      <td>0.0</td>\n",
       "      <td>0.0</td>\n",
       "      <td>...</td>\n",
       "      <td>0.0000</td>\n",
       "      <td>0.0000</td>\n",
       "      <td>0.0000</td>\n",
       "      <td>0.0</td>\n",
       "      <td>0.0000</td>\n",
       "      <td>0.0000</td>\n",
       "      <td>0.0000</td>\n",
       "      <td>0.7179</td>\n",
       "      <td>0.0000</td>\n",
       "      <td>0.0008</td>\n",
       "    </tr>\n",
       "    <tr>\n",
       "      <th>3</th>\n",
       "      <td>4</td>\n",
       "      <td>1</td>\n",
       "      <td>0.0000</td>\n",
       "      <td>0.0000</td>\n",
       "      <td>0.0</td>\n",
       "      <td>0.0</td>\n",
       "      <td>0.0</td>\n",
       "      <td>0.0000</td>\n",
       "      <td>0.0</td>\n",
       "      <td>0.0</td>\n",
       "      <td>...</td>\n",
       "      <td>0.0146</td>\n",
       "      <td>0.0275</td>\n",
       "      <td>0.0060</td>\n",
       "      <td>0.0</td>\n",
       "      <td>0.1724</td>\n",
       "      <td>0.0000</td>\n",
       "      <td>0.0021</td>\n",
       "      <td>0.0012</td>\n",
       "      <td>0.0000</td>\n",
       "      <td>0.0000</td>\n",
       "    </tr>\n",
       "    <tr>\n",
       "      <th>4</th>\n",
       "      <td>5</td>\n",
       "      <td>1</td>\n",
       "      <td>0.0006</td>\n",
       "      <td>0.0000</td>\n",
       "      <td>0.0</td>\n",
       "      <td>0.0</td>\n",
       "      <td>0.0</td>\n",
       "      <td>0.0002</td>\n",
       "      <td>0.0</td>\n",
       "      <td>0.0</td>\n",
       "      <td>...</td>\n",
       "      <td>0.0310</td>\n",
       "      <td>0.1061</td>\n",
       "      <td>0.0000</td>\n",
       "      <td>0.0</td>\n",
       "      <td>0.0010</td>\n",
       "      <td>0.0000</td>\n",
       "      <td>0.6773</td>\n",
       "      <td>0.0000</td>\n",
       "      <td>0.0000</td>\n",
       "      <td>0.0000</td>\n",
       "    </tr>\n",
       "  </tbody>\n",
       "</table>\n",
       "<p>5 rows × 102 columns</p>\n",
       "</div>"
      ],
      "text/plain": [
       "   user_id  purchased_album  artist1  artist2  artist3  artist4  artist5  \\\n",
       "0        1                1   0.0000   0.0891      0.0      0.0      0.0   \n",
       "1        2                0   0.0000   0.0000      0.0      0.0      0.0   \n",
       "2        3                1   0.0002   0.0000      0.0      0.0      0.0   \n",
       "3        4                1   0.0000   0.0000      0.0      0.0      0.0   \n",
       "4        5                1   0.0006   0.0000      0.0      0.0      0.0   \n",
       "\n",
       "   artist6  artist7  artist8  ...  artist91  artist92  artist93  artist94  \\\n",
       "0   0.0000      0.0      0.0  ...    0.0000    0.0001    0.0606       0.0   \n",
       "1   0.0001      0.0      0.0  ...    0.0008    0.0000    0.0016       0.0   \n",
       "2   0.0000      0.0      0.0  ...    0.0000    0.0000    0.0000       0.0   \n",
       "3   0.0000      0.0      0.0  ...    0.0146    0.0275    0.0060       0.0   \n",
       "4   0.0002      0.0      0.0  ...    0.0310    0.1061    0.0000       0.0   \n",
       "\n",
       "   artist95  artist96  artist97  artist98  artist99  artist100  \n",
       "0    0.0000    0.0578    0.1554    0.0001    0.0000     0.0000  \n",
       "1    0.0000    0.0000    0.0030    0.0034    0.8695     0.0037  \n",
       "2    0.0000    0.0000    0.0000    0.7179    0.0000     0.0008  \n",
       "3    0.1724    0.0000    0.0021    0.0012    0.0000     0.0000  \n",
       "4    0.0010    0.0000    0.6773    0.0000    0.0000     0.0000  \n",
       "\n",
       "[5 rows x 102 columns]"
      ]
     },
     "execution_count": 40,
     "metadata": {},
     "output_type": "execute_result"
    }
   ],
   "source": [
    "data_for_model.head()"
   ]
  },
  {
   "cell_type": "markdown",
   "id": "7c40d379",
   "metadata": {},
   "source": [
    "The data is at customer level. We have a binary column aka **purchased_album** showing whether the customer purchased the prior album or not, and following that remaining 100 columns containing the percentage of historical listening time allocated to each artist. We do not know the names of these artists.\n",
    "\n",
    "From the above sample, we can also see the sparsity of the data, customers do not listen to all artists and therefore many of the values are 0."
   ]
  },
  {
   "cell_type": "code",
   "execution_count": 41,
   "id": "1e19ec9b",
   "metadata": {},
   "outputs": [
    {
     "data": {
      "text/plain": [
       "(356, 102)"
      ]
     },
     "execution_count": 41,
     "metadata": {},
     "output_type": "execute_result"
    }
   ],
   "source": [
    "data_for_model.shape"
   ]
  },
  {
   "cell_type": "code",
   "execution_count": 42,
   "id": "251e969b",
   "metadata": {},
   "outputs": [
    {
     "name": "stdout",
     "output_type": "stream",
     "text": [
      "<class 'pandas.core.frame.DataFrame'>\n",
      "RangeIndex: 356 entries, 0 to 355\n",
      "Columns: 102 entries, user_id to artist100\n",
      "dtypes: float64(100), int64(2)\n",
      "memory usage: 283.8 KB\n"
     ]
    }
   ],
   "source": [
    "data_for_model.info()"
   ]
  },
  {
   "cell_type": "code",
   "execution_count": 43,
   "id": "448a3001",
   "metadata": {},
   "outputs": [],
   "source": [
    "data_for_model.drop('user_id',axis=1,inplace=True)"
   ]
  },
  {
   "cell_type": "code",
   "execution_count": 44,
   "id": "b28ad07d",
   "metadata": {},
   "outputs": [],
   "source": [
    "# Shuffle Data\n",
    "\n",
    "# if there are unknown order in data i.e sorted by customer number i.e sorted in longer term customer \n",
    "# to newer customers, this may or may not have the impact on the model and easy way to make sure it does'nt is to \n",
    "# always shuffle our data\n",
    "\n",
    "data_for_model = shuffle(data_for_model, random_state=42)"
   ]
  },
  {
   "cell_type": "code",
   "execution_count": 45,
   "id": "89d101ac",
   "metadata": {},
   "outputs": [
    {
     "data": {
      "text/plain": [
       "1    0.533708\n",
       "0    0.466292\n",
       "Name: purchased_album, dtype: float64"
      ]
     },
     "execution_count": 45,
     "metadata": {},
     "output_type": "execute_result"
    }
   ],
   "source": [
    "data_for_model['purchased_album'].value_counts(normalize=True)\n",
    "# we can see we have a quite balance here in the dataset"
   ]
  },
  {
   "cell_type": "code",
   "execution_count": 46,
   "id": "99bf161d",
   "metadata": {},
   "outputs": [
    {
     "data": {
      "text/plain": [
       "purchased_album    0\n",
       "artist1            0\n",
       "artist2            0\n",
       "artist3            0\n",
       "artist4            0\n",
       "                  ..\n",
       "artist96           0\n",
       "artist97           0\n",
       "artist98           0\n",
       "artist99           0\n",
       "artist100          0\n",
       "Length: 101, dtype: int64"
      ]
     },
     "execution_count": 46,
     "metadata": {},
     "output_type": "execute_result"
    }
   ],
   "source": [
    "data_for_model.isna().sum()"
   ]
  },
  {
   "cell_type": "code",
   "execution_count": 47,
   "id": "f031a16f",
   "metadata": {},
   "outputs": [
    {
     "data": {
      "text/plain": [
       "0"
      ]
     },
     "execution_count": 47,
     "metadata": {},
     "output_type": "execute_result"
    }
   ],
   "source": [
    "data_for_model.isna().sum().sum() # gives total number of missing rows \n",
    "# as we can't see clearly for all the columns"
   ]
  },
  {
   "cell_type": "code",
   "execution_count": 48,
   "id": "9e3e631f",
   "metadata": {},
   "outputs": [
    {
     "data": {
      "text/html": [
       "<div>\n",
       "<style scoped>\n",
       "    .dataframe tbody tr th:only-of-type {\n",
       "        vertical-align: middle;\n",
       "    }\n",
       "\n",
       "    .dataframe tbody tr th {\n",
       "        vertical-align: top;\n",
       "    }\n",
       "\n",
       "    .dataframe thead th {\n",
       "        text-align: right;\n",
       "    }\n",
       "</style>\n",
       "<table border=\"1\" class=\"dataframe\">\n",
       "  <thead>\n",
       "    <tr style=\"text-align: right;\">\n",
       "      <th></th>\n",
       "      <th>purchased_album</th>\n",
       "      <th>artist1</th>\n",
       "      <th>artist2</th>\n",
       "      <th>artist3</th>\n",
       "      <th>artist4</th>\n",
       "      <th>artist5</th>\n",
       "      <th>artist6</th>\n",
       "      <th>artist7</th>\n",
       "      <th>artist8</th>\n",
       "      <th>artist9</th>\n",
       "      <th>...</th>\n",
       "      <th>artist91</th>\n",
       "      <th>artist92</th>\n",
       "      <th>artist93</th>\n",
       "      <th>artist94</th>\n",
       "      <th>artist95</th>\n",
       "      <th>artist96</th>\n",
       "      <th>artist97</th>\n",
       "      <th>artist98</th>\n",
       "      <th>artist99</th>\n",
       "      <th>artist100</th>\n",
       "    </tr>\n",
       "  </thead>\n",
       "  <tbody>\n",
       "    <tr>\n",
       "      <th>count</th>\n",
       "      <td>356.000000</td>\n",
       "      <td>356.000000</td>\n",
       "      <td>356.000000</td>\n",
       "      <td>356.000000</td>\n",
       "      <td>356.000000</td>\n",
       "      <td>356.000000</td>\n",
       "      <td>356.000000</td>\n",
       "      <td>356.000000</td>\n",
       "      <td>356.000000</td>\n",
       "      <td>356.000000</td>\n",
       "      <td>...</td>\n",
       "      <td>356.000000</td>\n",
       "      <td>356.000000</td>\n",
       "      <td>356.000000</td>\n",
       "      <td>356.000000</td>\n",
       "      <td>356.000000</td>\n",
       "      <td>356.000000</td>\n",
       "      <td>356.000000</td>\n",
       "      <td>356.000000</td>\n",
       "      <td>356.000000</td>\n",
       "      <td>356.000000</td>\n",
       "    </tr>\n",
       "    <tr>\n",
       "      <th>mean</th>\n",
       "      <td>0.533708</td>\n",
       "      <td>0.002399</td>\n",
       "      <td>0.001245</td>\n",
       "      <td>0.000427</td>\n",
       "      <td>0.000704</td>\n",
       "      <td>0.002856</td>\n",
       "      <td>0.000867</td>\n",
       "      <td>0.000261</td>\n",
       "      <td>0.004274</td>\n",
       "      <td>0.000253</td>\n",
       "      <td>...</td>\n",
       "      <td>0.017004</td>\n",
       "      <td>0.046888</td>\n",
       "      <td>0.062277</td>\n",
       "      <td>0.070886</td>\n",
       "      <td>0.050739</td>\n",
       "      <td>0.045152</td>\n",
       "      <td>0.049222</td>\n",
       "      <td>0.042250</td>\n",
       "      <td>0.066055</td>\n",
       "      <td>0.022312</td>\n",
       "    </tr>\n",
       "    <tr>\n",
       "      <th>std</th>\n",
       "      <td>0.499565</td>\n",
       "      <td>0.012821</td>\n",
       "      <td>0.009374</td>\n",
       "      <td>0.003015</td>\n",
       "      <td>0.004589</td>\n",
       "      <td>0.027863</td>\n",
       "      <td>0.008944</td>\n",
       "      <td>0.003464</td>\n",
       "      <td>0.024472</td>\n",
       "      <td>0.001778</td>\n",
       "      <td>...</td>\n",
       "      <td>0.084572</td>\n",
       "      <td>0.147033</td>\n",
       "      <td>0.186326</td>\n",
       "      <td>0.178980</td>\n",
       "      <td>0.165047</td>\n",
       "      <td>0.149428</td>\n",
       "      <td>0.160892</td>\n",
       "      <td>0.146979</td>\n",
       "      <td>0.192017</td>\n",
       "      <td>0.092230</td>\n",
       "    </tr>\n",
       "    <tr>\n",
       "      <th>min</th>\n",
       "      <td>0.000000</td>\n",
       "      <td>0.000000</td>\n",
       "      <td>0.000000</td>\n",
       "      <td>0.000000</td>\n",
       "      <td>0.000000</td>\n",
       "      <td>0.000000</td>\n",
       "      <td>0.000000</td>\n",
       "      <td>0.000000</td>\n",
       "      <td>0.000000</td>\n",
       "      <td>0.000000</td>\n",
       "      <td>...</td>\n",
       "      <td>0.000000</td>\n",
       "      <td>0.000000</td>\n",
       "      <td>0.000000</td>\n",
       "      <td>0.000000</td>\n",
       "      <td>0.000000</td>\n",
       "      <td>0.000000</td>\n",
       "      <td>0.000000</td>\n",
       "      <td>0.000000</td>\n",
       "      <td>0.000000</td>\n",
       "      <td>0.000000</td>\n",
       "    </tr>\n",
       "    <tr>\n",
       "      <th>25%</th>\n",
       "      <td>0.000000</td>\n",
       "      <td>0.000000</td>\n",
       "      <td>0.000000</td>\n",
       "      <td>0.000000</td>\n",
       "      <td>0.000000</td>\n",
       "      <td>0.000000</td>\n",
       "      <td>0.000000</td>\n",
       "      <td>0.000000</td>\n",
       "      <td>0.000000</td>\n",
       "      <td>0.000000</td>\n",
       "      <td>...</td>\n",
       "      <td>0.000000</td>\n",
       "      <td>0.000000</td>\n",
       "      <td>0.000000</td>\n",
       "      <td>0.000000</td>\n",
       "      <td>0.000000</td>\n",
       "      <td>0.000000</td>\n",
       "      <td>0.000000</td>\n",
       "      <td>0.000000</td>\n",
       "      <td>0.000000</td>\n",
       "      <td>0.000000</td>\n",
       "    </tr>\n",
       "    <tr>\n",
       "      <th>50%</th>\n",
       "      <td>1.000000</td>\n",
       "      <td>0.000000</td>\n",
       "      <td>0.000000</td>\n",
       "      <td>0.000000</td>\n",
       "      <td>0.000000</td>\n",
       "      <td>0.000000</td>\n",
       "      <td>0.000000</td>\n",
       "      <td>0.000000</td>\n",
       "      <td>0.000000</td>\n",
       "      <td>0.000000</td>\n",
       "      <td>...</td>\n",
       "      <td>0.000000</td>\n",
       "      <td>0.000000</td>\n",
       "      <td>0.000000</td>\n",
       "      <td>0.000000</td>\n",
       "      <td>0.000000</td>\n",
       "      <td>0.000000</td>\n",
       "      <td>0.000000</td>\n",
       "      <td>0.000000</td>\n",
       "      <td>0.000000</td>\n",
       "      <td>0.000000</td>\n",
       "    </tr>\n",
       "    <tr>\n",
       "      <th>75%</th>\n",
       "      <td>1.000000</td>\n",
       "      <td>0.000000</td>\n",
       "      <td>0.000000</td>\n",
       "      <td>0.000000</td>\n",
       "      <td>0.000000</td>\n",
       "      <td>0.000000</td>\n",
       "      <td>0.000000</td>\n",
       "      <td>0.000000</td>\n",
       "      <td>0.000000</td>\n",
       "      <td>0.000000</td>\n",
       "      <td>...</td>\n",
       "      <td>0.000400</td>\n",
       "      <td>0.003650</td>\n",
       "      <td>0.003525</td>\n",
       "      <td>0.008700</td>\n",
       "      <td>0.000925</td>\n",
       "      <td>0.001000</td>\n",
       "      <td>0.002825</td>\n",
       "      <td>0.003150</td>\n",
       "      <td>0.003725</td>\n",
       "      <td>0.000700</td>\n",
       "    </tr>\n",
       "    <tr>\n",
       "      <th>max</th>\n",
       "      <td>1.000000</td>\n",
       "      <td>0.142700</td>\n",
       "      <td>0.110400</td>\n",
       "      <td>0.036700</td>\n",
       "      <td>0.055500</td>\n",
       "      <td>0.371600</td>\n",
       "      <td>0.129200</td>\n",
       "      <td>0.054200</td>\n",
       "      <td>0.260700</td>\n",
       "      <td>0.020200</td>\n",
       "      <td>...</td>\n",
       "      <td>0.915800</td>\n",
       "      <td>0.930200</td>\n",
       "      <td>0.933400</td>\n",
       "      <td>0.941800</td>\n",
       "      <td>0.880300</td>\n",
       "      <td>0.901800</td>\n",
       "      <td>0.935700</td>\n",
       "      <td>0.935600</td>\n",
       "      <td>0.967300</td>\n",
       "      <td>0.854300</td>\n",
       "    </tr>\n",
       "  </tbody>\n",
       "</table>\n",
       "<p>8 rows × 101 columns</p>\n",
       "</div>"
      ],
      "text/plain": [
       "       purchased_album     artist1     artist2     artist3     artist4  \\\n",
       "count       356.000000  356.000000  356.000000  356.000000  356.000000   \n",
       "mean          0.533708    0.002399    0.001245    0.000427    0.000704   \n",
       "std           0.499565    0.012821    0.009374    0.003015    0.004589   \n",
       "min           0.000000    0.000000    0.000000    0.000000    0.000000   \n",
       "25%           0.000000    0.000000    0.000000    0.000000    0.000000   \n",
       "50%           1.000000    0.000000    0.000000    0.000000    0.000000   \n",
       "75%           1.000000    0.000000    0.000000    0.000000    0.000000   \n",
       "max           1.000000    0.142700    0.110400    0.036700    0.055500   \n",
       "\n",
       "          artist5     artist6     artist7     artist8     artist9  ...  \\\n",
       "count  356.000000  356.000000  356.000000  356.000000  356.000000  ...   \n",
       "mean     0.002856    0.000867    0.000261    0.004274    0.000253  ...   \n",
       "std      0.027863    0.008944    0.003464    0.024472    0.001778  ...   \n",
       "min      0.000000    0.000000    0.000000    0.000000    0.000000  ...   \n",
       "25%      0.000000    0.000000    0.000000    0.000000    0.000000  ...   \n",
       "50%      0.000000    0.000000    0.000000    0.000000    0.000000  ...   \n",
       "75%      0.000000    0.000000    0.000000    0.000000    0.000000  ...   \n",
       "max      0.371600    0.129200    0.054200    0.260700    0.020200  ...   \n",
       "\n",
       "         artist91    artist92    artist93    artist94    artist95    artist96  \\\n",
       "count  356.000000  356.000000  356.000000  356.000000  356.000000  356.000000   \n",
       "mean     0.017004    0.046888    0.062277    0.070886    0.050739    0.045152   \n",
       "std      0.084572    0.147033    0.186326    0.178980    0.165047    0.149428   \n",
       "min      0.000000    0.000000    0.000000    0.000000    0.000000    0.000000   \n",
       "25%      0.000000    0.000000    0.000000    0.000000    0.000000    0.000000   \n",
       "50%      0.000000    0.000000    0.000000    0.000000    0.000000    0.000000   \n",
       "75%      0.000400    0.003650    0.003525    0.008700    0.000925    0.001000   \n",
       "max      0.915800    0.930200    0.933400    0.941800    0.880300    0.901800   \n",
       "\n",
       "         artist97    artist98    artist99   artist100  \n",
       "count  356.000000  356.000000  356.000000  356.000000  \n",
       "mean     0.049222    0.042250    0.066055    0.022312  \n",
       "std      0.160892    0.146979    0.192017    0.092230  \n",
       "min      0.000000    0.000000    0.000000    0.000000  \n",
       "25%      0.000000    0.000000    0.000000    0.000000  \n",
       "50%      0.000000    0.000000    0.000000    0.000000  \n",
       "75%      0.002825    0.003150    0.003725    0.000700  \n",
       "max      0.935700    0.935600    0.967300    0.854300  \n",
       "\n",
       "[8 rows x 101 columns]"
      ]
     },
     "execution_count": 48,
     "metadata": {},
     "output_type": "execute_result"
    }
   ],
   "source": [
    "data_for_model.describe()"
   ]
  },
  {
   "cell_type": "code",
   "execution_count": 49,
   "id": "862e190c",
   "metadata": {},
   "outputs": [],
   "source": [
    "# splitting input & output variable\n",
    "\n",
    "X = data_for_model.drop('purchased_album',axis=1)\n",
    "y = data_for_model['purchased_album']"
   ]
  },
  {
   "cell_type": "code",
   "execution_count": 50,
   "id": "3fbaf2d3",
   "metadata": {},
   "outputs": [],
   "source": [
    "X_train,X_test,y_train,y_test = train_test_split(X,y,test_size=0.2,random_state=42,stratify=y)\n",
    "# stratify = means our train and test set should have same proportions of classes as overall data"
   ]
  },
  {
   "cell_type": "code",
   "execution_count": 51,
   "id": "873cf3d4",
   "metadata": {},
   "outputs": [
    {
     "name": "stdout",
     "output_type": "stream",
     "text": [
      "(284, 100)\n",
      "(72, 100)\n",
      "(284,)\n",
      "(72,)\n"
     ]
    }
   ],
   "source": [
    "print(X_train.shape)\n",
    "print(X_test.shape)\n",
    "print(y_train.shape)\n",
    "print(y_test.shape)"
   ]
  },
  {
   "cell_type": "code",
   "execution_count": 52,
   "id": "c4db759c",
   "metadata": {},
   "outputs": [],
   "source": [
    "# Feature Scaling \n",
    "\n",
    "# As we discussed in the tutorial, scaling is vital in PCA, It means that the algorithms can successfully judge\n",
    "# the correlations between the variables and effectively create the principal components for us\n",
    "# so here we going to use \"Standardisation\"\n",
    "\n",
    "scale_standard = StandardScaler()\n",
    "X_train = scale_standard.fit_transform(X_train) \n",
    "X_test = scale_standard.transform(X_test) # we use \"transform\" because we want to apply the rules to test data"
   ]
  },
  {
   "cell_type": "code",
   "execution_count": 53,
   "id": "5d7c3207",
   "metadata": {},
   "outputs": [],
   "source": [
    "# Apply PCA\n",
    "\n",
    "pca = PCA(n_components=None, random_state=42) # we can set the components as \"values\"/\"proportions\"\n",
    "# it would create required number of components to explain the specified percentage of variance"
   ]
  },
  {
   "cell_type": "code",
   "execution_count": 54,
   "id": "4d1e31e6",
   "metadata": {},
   "outputs": [
    {
     "data": {
      "text/html": [
       "<style>#sk-container-id-3 {color: black;background-color: white;}#sk-container-id-3 pre{padding: 0;}#sk-container-id-3 div.sk-toggleable {background-color: white;}#sk-container-id-3 label.sk-toggleable__label {cursor: pointer;display: block;width: 100%;margin-bottom: 0;padding: 0.3em;box-sizing: border-box;text-align: center;}#sk-container-id-3 label.sk-toggleable__label-arrow:before {content: \"▸\";float: left;margin-right: 0.25em;color: #696969;}#sk-container-id-3 label.sk-toggleable__label-arrow:hover:before {color: black;}#sk-container-id-3 div.sk-estimator:hover label.sk-toggleable__label-arrow:before {color: black;}#sk-container-id-3 div.sk-toggleable__content {max-height: 0;max-width: 0;overflow: hidden;text-align: left;background-color: #f0f8ff;}#sk-container-id-3 div.sk-toggleable__content pre {margin: 0.2em;color: black;border-radius: 0.25em;background-color: #f0f8ff;}#sk-container-id-3 input.sk-toggleable__control:checked~div.sk-toggleable__content {max-height: 200px;max-width: 100%;overflow: auto;}#sk-container-id-3 input.sk-toggleable__control:checked~label.sk-toggleable__label-arrow:before {content: \"▾\";}#sk-container-id-3 div.sk-estimator input.sk-toggleable__control:checked~label.sk-toggleable__label {background-color: #d4ebff;}#sk-container-id-3 div.sk-label input.sk-toggleable__control:checked~label.sk-toggleable__label {background-color: #d4ebff;}#sk-container-id-3 input.sk-hidden--visually {border: 0;clip: rect(1px 1px 1px 1px);clip: rect(1px, 1px, 1px, 1px);height: 1px;margin: -1px;overflow: hidden;padding: 0;position: absolute;width: 1px;}#sk-container-id-3 div.sk-estimator {font-family: monospace;background-color: #f0f8ff;border: 1px dotted black;border-radius: 0.25em;box-sizing: border-box;margin-bottom: 0.5em;}#sk-container-id-3 div.sk-estimator:hover {background-color: #d4ebff;}#sk-container-id-3 div.sk-parallel-item::after {content: \"\";width: 100%;border-bottom: 1px solid gray;flex-grow: 1;}#sk-container-id-3 div.sk-label:hover label.sk-toggleable__label {background-color: #d4ebff;}#sk-container-id-3 div.sk-serial::before {content: \"\";position: absolute;border-left: 1px solid gray;box-sizing: border-box;top: 0;bottom: 0;left: 50%;z-index: 0;}#sk-container-id-3 div.sk-serial {display: flex;flex-direction: column;align-items: center;background-color: white;padding-right: 0.2em;padding-left: 0.2em;position: relative;}#sk-container-id-3 div.sk-item {position: relative;z-index: 1;}#sk-container-id-3 div.sk-parallel {display: flex;align-items: stretch;justify-content: center;background-color: white;position: relative;}#sk-container-id-3 div.sk-item::before, #sk-container-id-3 div.sk-parallel-item::before {content: \"\";position: absolute;border-left: 1px solid gray;box-sizing: border-box;top: 0;bottom: 0;left: 50%;z-index: -1;}#sk-container-id-3 div.sk-parallel-item {display: flex;flex-direction: column;z-index: 1;position: relative;background-color: white;}#sk-container-id-3 div.sk-parallel-item:first-child::after {align-self: flex-end;width: 50%;}#sk-container-id-3 div.sk-parallel-item:last-child::after {align-self: flex-start;width: 50%;}#sk-container-id-3 div.sk-parallel-item:only-child::after {width: 0;}#sk-container-id-3 div.sk-dashed-wrapped {border: 1px dashed gray;margin: 0 0.4em 0.5em 0.4em;box-sizing: border-box;padding-bottom: 0.4em;background-color: white;}#sk-container-id-3 div.sk-label label {font-family: monospace;font-weight: bold;display: inline-block;line-height: 1.2em;}#sk-container-id-3 div.sk-label-container {text-align: center;}#sk-container-id-3 div.sk-container {/* jupyter's `normalize.less` sets `[hidden] { display: none; }` but bootstrap.min.css set `[hidden] { display: none !important; }` so we also need the `!important` here to be able to override the default hidden behavior on the sphinx rendered scikit-learn.org. See: https://github.com/scikit-learn/scikit-learn/issues/21755 */display: inline-block !important;position: relative;}#sk-container-id-3 div.sk-text-repr-fallback {display: none;}</style><div id=\"sk-container-id-3\" class=\"sk-top-container\"><div class=\"sk-text-repr-fallback\"><pre>PCA(random_state=42)</pre><b>In a Jupyter environment, please rerun this cell to show the HTML representation or trust the notebook. <br />On GitHub, the HTML representation is unable to render, please try loading this page with nbviewer.org.</b></div><div class=\"sk-container\" hidden><div class=\"sk-item\"><div class=\"sk-estimator sk-toggleable\"><input class=\"sk-toggleable__control sk-hidden--visually\" id=\"sk-estimator-id-3\" type=\"checkbox\" checked><label for=\"sk-estimator-id-3\" class=\"sk-toggleable__label sk-toggleable__label-arrow\">PCA</label><div class=\"sk-toggleable__content\"><pre>PCA(random_state=42)</pre></div></div></div></div></div>"
      ],
      "text/plain": [
       "PCA(random_state=42)"
      ]
     },
     "execution_count": 54,
     "metadata": {},
     "output_type": "execute_result"
    }
   ],
   "source": [
    "pca.fit(X_train) # it has fitted the data.\n",
    "# we are not gonna use \"transform\" as we just want to check the variance that have at each number of components\n",
    "# so we then get an idea of what number of components we may want to choose"
   ]
  },
  {
   "cell_type": "markdown",
   "id": "cb97e308",
   "metadata": {},
   "source": [
    "There is no right or wrong number of components to use - this is something that we need to decide based upon the scenario we’re working in. We know we want to reduce the number of features, but we need to trade this off with the amount of information we lose.\n",
    "\n",
    "In the following below code, we extract this information from the prior step where we fit the PCA object to our training data. We extract the variance for each component, and we do the same again, but for the cumulative variance. Will will assess & plot both of these in the next step."
   ]
  },
  {
   "cell_type": "code",
   "execution_count": 55,
   "id": "180ace03",
   "metadata": {},
   "outputs": [],
   "source": [
    "# Extract the explained variance across components\n",
    "explained_variance = pca.explained_variance_ratio_\n",
    "explained_variance_cumulative = pca.explained_variance_ratio_.cumsum()"
   ]
  },
  {
   "cell_type": "code",
   "execution_count": 56,
   "id": "787c12dd",
   "metadata": {},
   "outputs": [
    {
     "data": {
      "text/plain": [
       "(100,)"
      ]
     },
     "execution_count": 56,
     "metadata": {},
     "output_type": "execute_result"
    }
   ],
   "source": [
    "explained_variance.shape"
   ]
  },
  {
   "cell_type": "code",
   "execution_count": 57,
   "id": "eea4852b",
   "metadata": {},
   "outputs": [
    {
     "data": {
      "text/plain": [
       "(100,)"
      ]
     },
     "execution_count": 57,
     "metadata": {},
     "output_type": "execute_result"
    }
   ],
   "source": [
    "explained_variance_cumulative.shape"
   ]
  },
  {
   "cell_type": "code",
   "execution_count": 58,
   "id": "e70992c9",
   "metadata": {},
   "outputs": [
    {
     "data": {
      "image/png": "[encoded data removed]",
      "text/plain": [
       "<Figure size 1500x1000 with 2 Axes>"
      ]
     },
     "metadata": {},
     "output_type": "display_data"
    }
   ],
   "source": [
    "# plot the explained variance across each component\n",
    "\n",
    "num_vars_list = list(range(1,101))\n",
    "plt.figure(figsize=(15,10))\n",
    "\n",
    "plt.subplot(2,1,1)\n",
    "plt.bar(num_vars_list,explained_variance)\n",
    "plt.title(\"Variance across Principal Components\")\n",
    "plt.xlabel(\"Number of Components\")\n",
    "plt.ylabel(\"% Variance\")\n",
    "plt.tight_layout()\n",
    "\n",
    "# plot the cumulative one \n",
    "plt.subplot(2,1,2)\n",
    "plt.plot(num_vars_list,explained_variance_cumulative)\n",
    "plt.title(\"Cumulative Variance across Principal Components\")\n",
    "plt.xlabel(\"Number of Components\")\n",
    "plt.ylabel(\"% of Cumulative Variance\")\n",
    "plt.tight_layout()\n",
    "plt.show()"
   ]
  },
  {
   "cell_type": "markdown",
   "id": "0149180b",
   "metadata": {},
   "source": [
    "#### As we said in tutorial, the first component describes the maximum variance, followed by each subsequent componenets which explains less & less\n",
    "\n",
    "From the above plots, there is'nt any indication of exactly how many components we should be using and like K-Means\n",
    "there is'nt really right or wrong answer. It is a trade off between number of components that you are happy dealing with and the amount of variance you want to be explained\n",
    "\n",
    "Looking at cumulative chart, 75% of variance is explained around 20 or 25 components. so as a starter i might try that"
   ]
  },
  {
   "cell_type": "code",
   "execution_count": 59,
   "id": "30cb78c5",
   "metadata": {},
   "outputs": [],
   "source": [
    "# Apply PCA with selected number of components\n",
    "\n",
    "pca = PCA(n_components=0.75, random_state=42)"
   ]
  },
  {
   "cell_type": "code",
   "execution_count": 60,
   "id": "0debd04b",
   "metadata": {},
   "outputs": [],
   "source": [
    "X_train = pca.fit_transform(X_train)\n",
    "X_test = pca.transform(X_test)"
   ]
  },
  {
   "cell_type": "code",
   "execution_count": 61,
   "id": "1aabf56f",
   "metadata": {},
   "outputs": [
    {
     "name": "stdout",
     "output_type": "stream",
     "text": [
      "(284, 24)\n",
      "(72, 24)\n"
     ]
    }
   ],
   "source": [
    "print(X_train.shape)\n",
    "print(X_test.shape)\n",
    "# we can see we have 24 columns now reduced from 100\n",
    "# this means the number of components needed for 75% of variance was 24\n",
    "# that is a pretty big reduction from original 100 that we have\n"
   ]
  },
  {
   "cell_type": "code",
   "execution_count": 63,
   "id": "5b6cdea2",
   "metadata": {},
   "outputs": [
    {
     "data": {
      "text/plain": [
       "array([[-0.4021941 , -0.75699883,  0.21924717, ...,  0.69928552,\n",
       "        -0.05906372,  0.76055747],\n",
       "       [-0.36007213, -1.13108387,  0.40324893, ...,  0.11438061,\n",
       "        -0.07724435,  0.02465604],\n",
       "       [10.69293403, -0.86657383,  0.71198676, ..., -1.10447554,\n",
       "         2.30523994,  2.60770229],\n",
       "       ...,\n",
       "       [ 1.00197218, -1.66885784,  0.63427027, ..., -3.40318488,\n",
       "         0.87659913, -2.01704601],\n",
       "       [-0.75303097,  3.75845543, -3.87202645, ...,  1.05689123,\n",
       "        -0.96292728,  0.42868757],\n",
       "       [-0.48844855, -0.58581165,  0.03826661, ...,  1.41959942,\n",
       "         0.08132504,  0.32049442]])"
      ]
     },
     "execution_count": 63,
     "metadata": {},
     "output_type": "execute_result"
    }
   ],
   "source": [
    "X_train"
   ]
  },
  {
   "cell_type": "markdown",
   "id": "9895a603",
   "metadata": {},
   "source": [
    "\n",
    "Here, column “0” represents the first component, column “1” represents the second component, and so on. This are the input variables we will feed into our classification model to predict which customers purchased Ed Sheeran’s last album!"
   ]
  },
  {
   "cell_type": "code",
   "execution_count": 64,
   "id": "6fc42b89",
   "metadata": {},
   "outputs": [
    {
     "data": {
      "text/plain": [
       "24"
      ]
     },
     "execution_count": 64,
     "metadata": {},
     "output_type": "execute_result"
    }
   ],
   "source": [
    "# we could have found this number using n_components attribute of our PCA object\n",
    "pca.n_components_ # we also get provided value 24"
   ]
  },
  {
   "cell_type": "code",
   "execution_count": 65,
   "id": "886869a3",
   "metadata": {},
   "outputs": [
    {
     "data": {
      "text/html": [
       "<style>#sk-container-id-4 {color: black;background-color: white;}#sk-container-id-4 pre{padding: 0;}#sk-container-id-4 div.sk-toggleable {background-color: white;}#sk-container-id-4 label.sk-toggleable__label {cursor: pointer;display: block;width: 100%;margin-bottom: 0;padding: 0.3em;box-sizing: border-box;text-align: center;}#sk-container-id-4 label.sk-toggleable__label-arrow:before {content: \"▸\";float: left;margin-right: 0.25em;color: #696969;}#sk-container-id-4 label.sk-toggleable__label-arrow:hover:before {color: black;}#sk-container-id-4 div.sk-estimator:hover label.sk-toggleable__label-arrow:before {color: black;}#sk-container-id-4 div.sk-toggleable__content {max-height: 0;max-width: 0;overflow: hidden;text-align: left;background-color: #f0f8ff;}#sk-container-id-4 div.sk-toggleable__content pre {margin: 0.2em;color: black;border-radius: 0.25em;background-color: #f0f8ff;}#sk-container-id-4 input.sk-toggleable__control:checked~div.sk-toggleable__content {max-height: 200px;max-width: 100%;overflow: auto;}#sk-container-id-4 input.sk-toggleable__control:checked~label.sk-toggleable__label-arrow:before {content: \"▾\";}#sk-container-id-4 div.sk-estimator input.sk-toggleable__control:checked~label.sk-toggleable__label {background-color: #d4ebff;}#sk-container-id-4 div.sk-label input.sk-toggleable__control:checked~label.sk-toggleable__label {background-color: #d4ebff;}#sk-container-id-4 input.sk-hidden--visually {border: 0;clip: rect(1px 1px 1px 1px);clip: rect(1px, 1px, 1px, 1px);height: 1px;margin: -1px;overflow: hidden;padding: 0;position: absolute;width: 1px;}#sk-container-id-4 div.sk-estimator {font-family: monospace;background-color: #f0f8ff;border: 1px dotted black;border-radius: 0.25em;box-sizing: border-box;margin-bottom: 0.5em;}#sk-container-id-4 div.sk-estimator:hover {background-color: #d4ebff;}#sk-container-id-4 div.sk-parallel-item::after {content: \"\";width: 100%;border-bottom: 1px solid gray;flex-grow: 1;}#sk-container-id-4 div.sk-label:hover label.sk-toggleable__label {background-color: #d4ebff;}#sk-container-id-4 div.sk-serial::before {content: \"\";position: absolute;border-left: 1px solid gray;box-sizing: border-box;top: 0;bottom: 0;left: 50%;z-index: 0;}#sk-container-id-4 div.sk-serial {display: flex;flex-direction: column;align-items: center;background-color: white;padding-right: 0.2em;padding-left: 0.2em;position: relative;}#sk-container-id-4 div.sk-item {position: relative;z-index: 1;}#sk-container-id-4 div.sk-parallel {display: flex;align-items: stretch;justify-content: center;background-color: white;position: relative;}#sk-container-id-4 div.sk-item::before, #sk-container-id-4 div.sk-parallel-item::before {content: \"\";position: absolute;border-left: 1px solid gray;box-sizing: border-box;top: 0;bottom: 0;left: 50%;z-index: -1;}#sk-container-id-4 div.sk-parallel-item {display: flex;flex-direction: column;z-index: 1;position: relative;background-color: white;}#sk-container-id-4 div.sk-parallel-item:first-child::after {align-self: flex-end;width: 50%;}#sk-container-id-4 div.sk-parallel-item:last-child::after {align-self: flex-start;width: 50%;}#sk-container-id-4 div.sk-parallel-item:only-child::after {width: 0;}#sk-container-id-4 div.sk-dashed-wrapped {border: 1px dashed gray;margin: 0 0.4em 0.5em 0.4em;box-sizing: border-box;padding-bottom: 0.4em;background-color: white;}#sk-container-id-4 div.sk-label label {font-family: monospace;font-weight: bold;display: inline-block;line-height: 1.2em;}#sk-container-id-4 div.sk-label-container {text-align: center;}#sk-container-id-4 div.sk-container {/* jupyter's `normalize.less` sets `[hidden] { display: none; }` but bootstrap.min.css set `[hidden] { display: none !important; }` so we also need the `!important` here to be able to override the default hidden behavior on the sphinx rendered scikit-learn.org. See: https://github.com/scikit-learn/scikit-learn/issues/21755 */display: inline-block !important;position: relative;}#sk-container-id-4 div.sk-text-repr-fallback {display: none;}</style><div id=\"sk-container-id-4\" class=\"sk-top-container\"><div class=\"sk-text-repr-fallback\"><pre>RandomForestClassifier(random_state=42)</pre><b>In a Jupyter environment, please rerun this cell to show the HTML representation or trust the notebook. <br />On GitHub, the HTML representation is unable to render, please try loading this page with nbviewer.org.</b></div><div class=\"sk-container\" hidden><div class=\"sk-item\"><div class=\"sk-estimator sk-toggleable\"><input class=\"sk-toggleable__control sk-hidden--visually\" id=\"sk-estimator-id-4\" type=\"checkbox\" checked><label for=\"sk-estimator-id-4\" class=\"sk-toggleable__label sk-toggleable__label-arrow\">RandomForestClassifier</label><div class=\"sk-toggleable__content\"><pre>RandomForestClassifier(random_state=42)</pre></div></div></div></div></div>"
      ],
      "text/plain": [
       "RandomForestClassifier(random_state=42)"
      ]
     },
     "execution_count": 65,
     "metadata": {},
     "output_type": "execute_result"
    }
   ],
   "source": [
    "clf = RandomForestClassifier(random_state=42)\n",
    "clf.fit(X_train,y_train)"
   ]
  },
  {
   "cell_type": "code",
   "execution_count": 66,
   "id": "69eb2c8c",
   "metadata": {},
   "outputs": [
    {
     "name": "stdout",
     "output_type": "stream",
     "text": [
      "0.9305555555555556\n"
     ]
    }
   ],
   "source": [
    "y_pred_class = clf.predict(X_test)\n",
    "print(accuracy_score(y_test,y_pred_class))"
   ]
  },
  {
   "cell_type": "markdown",
   "id": "68eecc59",
   "metadata": {},
   "source": [
    "#### so we can see 93% of accuracy based on 24 of 100 variables. all thanks to PCA\n",
    "Now we can confidently go back to ABC Grocery and suggest they get up to-date listening data , so that we can apply the model to predict which customers are highly likely to be interested in edsheeran's new album"
   ]
  }
 ],
 "metadata": {
  "kernelspec": {
   "display_name": "Python 3 (ipykernel)",
   "language": "python",
   "name": "python3"
  },
  "language_info": {
   "codemirror_mode": {
    "name": "ipython",
    "version": 3
   },
   "file_extension": ".py",
   "mimetype": "text/x-python",
   "name": "python",
   "nbconvert_exporter": "python",
   "pygments_lexer": "ipython3",
   "version": "3.10.9"
  }
 },
 "nbformat": 4,
 "nbformat_minor": 5
}
